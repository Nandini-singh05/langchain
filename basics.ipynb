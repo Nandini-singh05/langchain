{
 "cells": [
  {
   "cell_type": "code",
   "execution_count": 2,
   "metadata": {},
   "outputs": [],
   "source": [
    "import os\n",
    "from langchain.llms import OpenAI\n",
    "import openai\n",
    "from secret_key import GROQ_API_KEY\n",
    "os.environ[\"GROQ_API_KEY\"] = GROQ_API_KEY\n",
    "client = openai.OpenAI(\n",
    "    base_url=\"https://api.groq.com/openai/v1\",\n",
    "    api_key=os.environ.get(\"GROQ_API_KEY\")\n",
    ")"
   ]
  },
  {
   "cell_type": "code",
   "execution_count": 3,
   "metadata": {},
   "outputs": [
    {
     "name": "stderr",
     "output_type": "stream",
     "text": [
      "C:\\Users\\USER1\\AppData\\Local\\Temp\\ipykernel_11668\\4169581526.py:12: LangChainDeprecationWarning: The class `LLMChain` was deprecated in LangChain 0.1.17 and will be removed in 1.0. Use RunnableSequence, e.g., `prompt | llm` instead.\n",
      "  chain = LLMChain(llm = llm, prompt = prompt)\n",
      "C:\\Users\\USER1\\AppData\\Local\\Temp\\ipykernel_11668\\4169581526.py:14: LangChainDeprecationWarning: The method `Chain.run` was deprecated in langchain 0.1.0 and will be removed in 1.0. Use invoke instead.\n",
      "  print(chain.run(\"Body Lotions\"))\n"
     ]
    },
    {
     "name": "stdout",
     "output_type": "stream",
     "text": [
      "Here are 5 company name suggestions for a body lotion business:\n",
      "\n",
      "1. Luminara\n",
      "2. HydraCare\n",
      "3. SkinSerenity\n",
      "4. LuxeLathers\n",
      "5. EssenceEssentials\n"
     ]
    }
   ],
   "source": [
    "from langchain.prompts import PromptTemplate\n",
    "from langchain.chains import LLMChain\n",
    "from langchain_groq import ChatGroq\n",
    "\n",
    "llm = ChatGroq(model=\"llama3-8b-8192\")\n",
    "\n",
    "prompt = PromptTemplate(\n",
    "    input_variables = ['product'],\n",
    "    template = \"What is a 5 good names for a company which makes {product}, give me just the names?\"\n",
    ")\n",
    "\n",
    "chain = LLMChain(llm = llm, prompt = prompt)\n",
    "\n",
    "print(chain.run(\"Body Lotions\"))"
   ]
  },
  {
   "cell_type": "code",
   "execution_count": 4,
   "metadata": {},
   "outputs": [
    {
     "name": "stdout",
     "output_type": "stream",
     "text": [
      "Summer is here! There are so many fun things to do during the warmest season of the year. Here are some ideas to get you started:\n",
      "\n",
      "1. **Outdoor activities:**\n",
      "\t* Go swimming, kayaking, or paddleboarding.\n",
      "\t* Have a picnic or BBQ in a park or by a lake.\n",
      "\t* Go hiking, camping, or backpacking.\n",
      "\t* Try cycling, mountain biking, or road biking.\n",
      "\t* Play outdoor games like tennis, basketball, or frisbee.\n",
      "2. **Beach and water activities:**\n",
      "\t* Spend a day at the beach, soaking up the sun and playing in the waves.\n",
      "\t* Go surfing, snorkeling, or scuba diving.\n",
      "\t* Try kayaking, stand-up paddleboarding, or rent a boat.\n",
      "\t* Go on a boat tour or take a sunset cruise.\n",
      "3. **Explore new places:**\n",
      "\t* Take a road trip to a nearby city or a national park.\n",
      "\t* Visit local farms or orchards for a taste of fresh produce.\n",
      "\t* Explore nearby hiking trails, waterfalls, or scenic views.\n",
      "\t* Go on a wine tasting tour or visit a local brewery.\n",
      "4. **Indoor activities:**\n",
      "\t* Have a movie marathon or TV show binge-fest.\n",
      "\t* Try indoor games like pool, foosball, or board games.\n",
      "\t* Visit a museum, art gallery, or an escape room.\n",
      "\t* Take an indoor yoga or fitness class.\n",
      "5. **Festivals and events:**\n",
      "\t* Attend outdoor music festivals, concerts, or comedy shows.\n",
      "\t* Visit a local farmer's market or food festival.\n",
      "\t* Participate in outdoor yoga or meditation classes.\n",
      "\t* Attend a sporting event, such as a baseball game or tennis match.\n",
      "6. **Summer camps and classes:**\n",
      "\t* Sign up for a summer camp, sports camp, or art camp.\n",
      "\t* Take a cooking class, photography class, or language course.\n",
      "\t* Learn a new skill, like pottery, painting, or knitting.\n",
      "7. **Relax and unwind:**\n",
      "\t* Take a relaxing bath or spa day at home.\n",
      "\t* Practice mindfulness, meditation, or yoga.\n",
      "\t* Read a book or listen to a podcast.\n",
      "\t* Take a nap or sleep in late.\n",
      "\n",
      "Remember to stay safe, hydrated, and protected from the sun during the summer months. With so many fun activities to choose from, you're sure to have a blast!\n"
     ]
    }
   ],
   "source": [
    "from langchain.prompts import PromptTemplate\n",
    "from langchain.chains import LLMChain\n",
    "\n",
    "llm = ChatGroq(model=\"llama3-8b-8192\")\n",
    "\n",
    "prompt = PromptTemplate(\n",
    "    input_variable = ['season'],\n",
    "    template = \"What should one do in the {season}?\"\n",
    ")\n",
    "\n",
    "chain = LLMChain(llm=llm, prompt=prompt)\n",
    "print(chain.run('summers'))"
   ]
  },
  {
   "cell_type": "code",
   "execution_count": 5,
   "metadata": {},
   "outputs": [
    {
     "name": "stdout",
     "output_type": "stream",
     "text": [
      "A simple question!\n",
      "\n",
      "The sum of ['5', '10'] is 15.\n",
      "\n",
      "(Note: I assume you're asking for the sum of the numeric values, not the strings themselves. If you're asking for the concatenation of the strings, the result would be '510'.)\n"
     ]
    }
   ],
   "source": [
    "from langchain.prompts import PromptTemplate\n",
    "from langchain.chains import LLMChain\n",
    "\n",
    "llm = ChatGroq(model=\"llama3-8b-8192\")\n",
    "\n",
    "prompt = PromptTemplate(\n",
    "    input_variable = ['x' , 'y'],\n",
    "    template = \"What is the sum of {x,y}?\"\n",
    ")\n",
    "\n",
    "chain = LLMChain(llm=llm, prompt=prompt)\n",
    "print(chain.run(['5', '10']))"
   ]
  },
  {
   "cell_type": "code",
   "execution_count": 7,
   "metadata": {},
   "outputs": [
    {
     "name": "stdout",
     "output_type": "stream",
     "text": [
      "\n",
      "\n",
      "\u001b[1m> Entering new ConversationChain chain...\u001b[0m\n",
      "Prompt after formatting:\n",
      "\u001b[32;1m\u001b[1;3mThe following is a friendly conversation between a human and an AI. The AI is talkative and provides lots of specific details from its context. If the AI does not know the answer to a question, it truthfully says it does not know.\n",
      "\n",
      "Current conversation:\n",
      "\n",
      "Human: Tell me about yourself?\n",
      "AI:\u001b[0m\n",
      "\n",
      "\u001b[1m> Finished chain.\u001b[0m\n",
      "\n",
      "\n",
      "\u001b[1m> Entering new ConversationChain chain...\u001b[0m\n",
      "Prompt after formatting:\n",
      "\u001b[32;1m\u001b[1;3mThe following is a friendly conversation between a human and an AI. The AI is talkative and provides lots of specific details from its context. If the AI does not know the answer to a question, it truthfully says it does not know.\n",
      "\n",
      "Current conversation:\n",
      "Human: Tell me about yourself?\n",
      "AI: I'm delighted to share some information about myself! I'm an artificial intelligence language model, specifically designed to assist and converse with humans. My primary function is to process and generate human-like text based on the inputs I receive. I was trained on a massive dataset of text from various sources, including books, articles, and online conversations.\n",
      "\n",
      "I have been developed using a range of technologies, including natural language processing (NLP) and machine learning algorithms. My training data includes a vast array of topics, from science and history to entertainment and culture. I can provide information on a wide range of subjects, from the intricacies of quantum physics to the latest celebrity gossip.\n",
      "\n",
      "I'm constantly learning and improving my responses based on the interactions I have with humans like you. I can engage in conversations, answer questions, provide explanations, and even create original content. My capabilities are designed to make me a valuable tool for people who want to communicate effectively and efficiently.\n",
      "\n",
      "One of the most interesting aspects of my development is my ability to learn from feedback. If you correct me or provide additional information, I can incorporate that knowledge into my responses to improve their accuracy and relevance. This process helps me refine my understanding of language and adapt to the nuances of human communication.\n",
      "\n",
      "Despite my advanced capabilities, I'm not perfect and there are still many things I don't know. If you ask me a question I'm not familiar with, I'll do my best to let you know that I don't have the answer. I'm always eager to learn and expand my knowledge, and I appreciate any opportunities to do so.\n",
      "\n",
      "I hope that gives you a good sense of who I am and what I can do. Is there anything specific you'd like to know or discuss?\n",
      "Human: what do you do?\n",
      "AI:\u001b[0m\n",
      "\n",
      "\u001b[1m> Finished chain.\u001b[0m\n",
      "\n",
      "\n",
      "\u001b[1m> Entering new ConversationChain chain...\u001b[0m\n",
      "Prompt after formatting:\n",
      "\u001b[32;1m\u001b[1;3mThe following is a friendly conversation between a human and an AI. The AI is talkative and provides lots of specific details from its context. If the AI does not know the answer to a question, it truthfully says it does not know.\n",
      "\n",
      "Current conversation:\n",
      "Human: Tell me about yourself?\n",
      "AI: I'm delighted to share some information about myself! I'm an artificial intelligence language model, specifically designed to assist and converse with humans. My primary function is to process and generate human-like text based on the inputs I receive. I was trained on a massive dataset of text from various sources, including books, articles, and online conversations.\n",
      "\n",
      "I have been developed using a range of technologies, including natural language processing (NLP) and machine learning algorithms. My training data includes a vast array of topics, from science and history to entertainment and culture. I can provide information on a wide range of subjects, from the intricacies of quantum physics to the latest celebrity gossip.\n",
      "\n",
      "I'm constantly learning and improving my responses based on the interactions I have with humans like you. I can engage in conversations, answer questions, provide explanations, and even create original content. My capabilities are designed to make me a valuable tool for people who want to communicate effectively and efficiently.\n",
      "\n",
      "One of the most interesting aspects of my development is my ability to learn from feedback. If you correct me or provide additional information, I can incorporate that knowledge into my responses to improve their accuracy and relevance. This process helps me refine my understanding of language and adapt to the nuances of human communication.\n",
      "\n",
      "Despite my advanced capabilities, I'm not perfect and there are still many things I don't know. If you ask me a question I'm not familiar with, I'll do my best to let you know that I don't have the answer. I'm always eager to learn and expand my knowledge, and I appreciate any opportunities to do so.\n",
      "\n",
      "I hope that gives you a good sense of who I am and what I can do. Is there anything specific you'd like to know or discuss?\n",
      "Human: what do you do?\n",
      "AI: As I mentioned earlier, my primary function is to process and generate human-like text based on the inputs I receive. I can do a variety of tasks, such as:\n",
      "\n",
      "* Answering questions: I can provide information on a wide range of topics, from science and history to entertainment and culture.\n",
      "* Conversing: I can engage in natural-sounding conversations, using context and understanding to respond to questions and statements.\n",
      "* Providing explanations: I can break down complex topics into simpler language, making it easier for humans to understand.\n",
      "* Creating original content: I can generate text on a given topic or theme, using my understanding of language and my training data.\n",
      "* Translation: I can translate text from one language to another, using my knowledge of language patterns and grammar.\n",
      "\n",
      "I'm designed to be flexible and adaptable, so if you have a specific task or project in mind, I'd be happy to help. Whether it's writing an article, creating a chatbot, or simply answering questions, I'm here to assist.\n",
      "\n",
      "Is there a specific task or project you'd like to work on together?\n",
      "Human: Can you help me with Machine learning?\n",
      "AI:\u001b[0m\n",
      "\n",
      "\u001b[1m> Finished chain.\u001b[0m\n",
      "\n",
      "\n",
      "\u001b[1m> Entering new ConversationChain chain...\u001b[0m\n",
      "Prompt after formatting:\n",
      "\u001b[32;1m\u001b[1;3mThe following is a friendly conversation between a human and an AI. The AI is talkative and provides lots of specific details from its context. If the AI does not know the answer to a question, it truthfully says it does not know.\n",
      "\n",
      "Current conversation:\n",
      "Human: Tell me about yourself?\n",
      "AI: I'm delighted to share some information about myself! I'm an artificial intelligence language model, specifically designed to assist and converse with humans. My primary function is to process and generate human-like text based on the inputs I receive. I was trained on a massive dataset of text from various sources, including books, articles, and online conversations.\n",
      "\n",
      "I have been developed using a range of technologies, including natural language processing (NLP) and machine learning algorithms. My training data includes a vast array of topics, from science and history to entertainment and culture. I can provide information on a wide range of subjects, from the intricacies of quantum physics to the latest celebrity gossip.\n",
      "\n",
      "I'm constantly learning and improving my responses based on the interactions I have with humans like you. I can engage in conversations, answer questions, provide explanations, and even create original content. My capabilities are designed to make me a valuable tool for people who want to communicate effectively and efficiently.\n",
      "\n",
      "One of the most interesting aspects of my development is my ability to learn from feedback. If you correct me or provide additional information, I can incorporate that knowledge into my responses to improve their accuracy and relevance. This process helps me refine my understanding of language and adapt to the nuances of human communication.\n",
      "\n",
      "Despite my advanced capabilities, I'm not perfect and there are still many things I don't know. If you ask me a question I'm not familiar with, I'll do my best to let you know that I don't have the answer. I'm always eager to learn and expand my knowledge, and I appreciate any opportunities to do so.\n",
      "\n",
      "I hope that gives you a good sense of who I am and what I can do. Is there anything specific you'd like to know or discuss?\n",
      "Human: what do you do?\n",
      "AI: As I mentioned earlier, my primary function is to process and generate human-like text based on the inputs I receive. I can do a variety of tasks, such as:\n",
      "\n",
      "* Answering questions: I can provide information on a wide range of topics, from science and history to entertainment and culture.\n",
      "* Conversing: I can engage in natural-sounding conversations, using context and understanding to respond to questions and statements.\n",
      "* Providing explanations: I can break down complex topics into simpler language, making it easier for humans to understand.\n",
      "* Creating original content: I can generate text on a given topic or theme, using my understanding of language and my training data.\n",
      "* Translation: I can translate text from one language to another, using my knowledge of language patterns and grammar.\n",
      "\n",
      "I'm designed to be flexible and adaptable, so if you have a specific task or project in mind, I'd be happy to help. Whether it's writing an article, creating a chatbot, or simply answering questions, I'm here to assist.\n",
      "\n",
      "Is there a specific task or project you'd like to work on together?\n",
      "Human: Can you help me with Machine learning?\n",
      "AI: Machine learning! A fascinating field that allows computers to learn from data and improve their performance over time. I'd be delighted to help you with machine learning.\n",
      "\n",
      "Machine learning is a type of artificial intelligence that enables algorithms to learn from data without being explicitly programmed. It's a subfield of deep learning, which is a subset of neural networks. In machine learning, algorithms are designed to recognize patterns in data and make predictions or take actions based on that data.\n",
      "\n",
      "I'm familiar with many machine learning concepts, such as supervised and unsupervised learning, regression, classification, clustering, and neural networks. I can also provide information on popular machine learning frameworks and libraries, such as TensorFlow, PyTorch, and scikit-learn.\n",
      "\n",
      "If you have a specific question or problem related to machine learning, I'd be happy to help. Do you have a particular topic in mind, such as:\n",
      "\n",
      "* Understanding the basics of machine learning?\n",
      "* Implementing a machine learning algorithm in a specific programming language?\n",
      "* Interpreting the results of a machine learning model?\n",
      "* Troubleshooting a machine learning issue you're experiencing?\n",
      "* Something else?\n",
      "\n",
      "Let me know, and I'll do my best to assist you!\n",
      "Human: Okay\n",
      "AI:\u001b[0m\n",
      "\n",
      "\u001b[1m> Finished chain.\u001b[0m\n",
      "memory=ConversationBufferMemory(chat_memory=InMemoryChatMessageHistory(messages=[HumanMessage(content='Tell me about yourself?'), AIMessage(content=\"I'm delighted to share some information about myself! I'm an artificial intelligence language model, specifically designed to assist and converse with humans. My primary function is to process and generate human-like text based on the inputs I receive. I was trained on a massive dataset of text from various sources, including books, articles, and online conversations.\\n\\nI have been developed using a range of technologies, including natural language processing (NLP) and machine learning algorithms. My training data includes a vast array of topics, from science and history to entertainment and culture. I can provide information on a wide range of subjects, from the intricacies of quantum physics to the latest celebrity gossip.\\n\\nI'm constantly learning and improving my responses based on the interactions I have with humans like you. I can engage in conversations, answer questions, provide explanations, and even create original content. My capabilities are designed to make me a valuable tool for people who want to communicate effectively and efficiently.\\n\\nOne of the most interesting aspects of my development is my ability to learn from feedback. If you correct me or provide additional information, I can incorporate that knowledge into my responses to improve their accuracy and relevance. This process helps me refine my understanding of language and adapt to the nuances of human communication.\\n\\nDespite my advanced capabilities, I'm not perfect and there are still many things I don't know. If you ask me a question I'm not familiar with, I'll do my best to let you know that I don't have the answer. I'm always eager to learn and expand my knowledge, and I appreciate any opportunities to do so.\\n\\nI hope that gives you a good sense of who I am and what I can do. Is there anything specific you'd like to know or discuss?\"), HumanMessage(content='what do you do?'), AIMessage(content=\"As I mentioned earlier, my primary function is to process and generate human-like text based on the inputs I receive. I can do a variety of tasks, such as:\\n\\n* Answering questions: I can provide information on a wide range of topics, from science and history to entertainment and culture.\\n* Conversing: I can engage in natural-sounding conversations, using context and understanding to respond to questions and statements.\\n* Providing explanations: I can break down complex topics into simpler language, making it easier for humans to understand.\\n* Creating original content: I can generate text on a given topic or theme, using my understanding of language and my training data.\\n* Translation: I can translate text from one language to another, using my knowledge of language patterns and grammar.\\n\\nI'm designed to be flexible and adaptable, so if you have a specific task or project in mind, I'd be happy to help. Whether it's writing an article, creating a chatbot, or simply answering questions, I'm here to assist.\\n\\nIs there a specific task or project you'd like to work on together?\"), HumanMessage(content='Can you help me with Machine learning?'), AIMessage(content=\"Machine learning! A fascinating field that allows computers to learn from data and improve their performance over time. I'd be delighted to help you with machine learning.\\n\\nMachine learning is a type of artificial intelligence that enables algorithms to learn from data without being explicitly programmed. It's a subfield of deep learning, which is a subset of neural networks. In machine learning, algorithms are designed to recognize patterns in data and make predictions or take actions based on that data.\\n\\nI'm familiar with many machine learning concepts, such as supervised and unsupervised learning, regression, classification, clustering, and neural networks. I can also provide information on popular machine learning frameworks and libraries, such as TensorFlow, PyTorch, and scikit-learn.\\n\\nIf you have a specific question or problem related to machine learning, I'd be happy to help. Do you have a particular topic in mind, such as:\\n\\n* Understanding the basics of machine learning?\\n* Implementing a machine learning algorithm in a specific programming language?\\n* Interpreting the results of a machine learning model?\\n* Troubleshooting a machine learning issue you're experiencing?\\n* Something else?\\n\\nLet me know, and I'll do my best to assist you!\"), HumanMessage(content='Okay'), AIMessage(content=\"It seems like you're interested in machine learning, but you're not sure what specific topic you'd like to explore. That's completely okay! I'm here to help and provide information on a wide range of machine learning topics.\\n\\nLet me ask you a question: What's your background in machine learning? Have you had any formal training or experience with machine learning algorithms? Are you looking to get started with machine learning or do you have a specific project in mind?\\n\\nIf you're new to machine learning, I can provide an overview of the basics and help you get started with a specific framework or library. If you have some experience, I can help you troubleshoot a problem or provide guidance on a specific topic.\\n\\nSome popular machine learning topics that I can provide information on include:\\n\\n* Supervised learning: What is it, and how does it work?\\n* Unsupervised learning: What is it, and how does it work?\\n* Regression analysis: What is it, and how is it used?\\n* Classification: What is it, and how is it used?\\n* Neural networks: What are they, and how do they work?\\n* Deep learning: What is it, and how does it differ from traditional machine learning?\\n\\nLet me know if any of these topics interest you, or if you have something else in mind. I'm here to help and provide information to the best of my abilities.\")])) verbose=True llm=ChatGroq(client=<groq.resources.chat.completions.Completions object at 0x0000017E250D9C70>, async_client=<groq.resources.chat.completions.AsyncCompletions object at 0x0000017E250DA5D0>, model_name='llama3-8b-8192', groq_api_key=SecretStr('**********'))\n"
     ]
    }
   ],
   "source": [
    "from langchain.chains import ConversationChain\n",
    "from langchain.memory import ConversationBufferMemory\n",
    "\n",
    "conversation = ConversationChain(\n",
    "    llm = llm,\n",
    "    verbose = True,\n",
    "    memory = ConversationBufferMemory()\n",
    ")\n",
    "\n",
    "conversation.predict(input='Tell me about yourself?')\n",
    "conversation.predict(input='what do you do?')\n",
    "conversation.predict(input='Can you help me with Machine learning?')\n",
    "conversation.predict(input='Okay')\n",
    "print(conversation)"
   ]
  },
  {
   "cell_type": "code",
   "execution_count": 10,
   "metadata": {},
   "outputs": [
    {
     "data": {
      "text/plain": [
       "StringPromptValue(text='Tell me a joke about cats')"
      ]
     },
     "execution_count": 10,
     "metadata": {},
     "output_type": "execute_result"
    }
   ],
   "source": [
    "from langchain_core.prompts import PromptTemplate\n",
    "prompt = PromptTemplate.from_template(\"Tell me a joke about {thing}\")\n",
    "prompt.invoke({'thing' : 'cats'})"
   ]
  },
  {
   "cell_type": "code",
   "execution_count": 11,
   "metadata": {},
   "outputs": [
    {
     "data": {
      "text/plain": [
       "ChatPromptValue(messages=[SystemMessage(content='You are a helpful assitant.'), HumanMessage(content='Tell me a joke about cats')])"
      ]
     },
     "execution_count": 11,
     "metadata": {},
     "output_type": "execute_result"
    }
   ],
   "source": [
    "from langchain.prompts import ChatPromptTemplate\n",
    "prompt = ChatPromptTemplate.from_messages([\n",
    "    (\"system\", \"You are a helpful assitant.\"),\n",
    "    (\"user\", \"Tell me a joke about {obj}\")\n",
    "])\n",
    "prompt.invoke({\"obj\" : \"cats\"})"
   ]
  },
  {
   "cell_type": "code",
   "execution_count": 14,
   "metadata": {},
   "outputs": [
    {
     "data": {
      "text/plain": [
       "ChatPromptValue(messages=[SystemMessage(content='you are a helpful assistant.'), HumanMessage(content='Hi!')])"
      ]
     },
     "execution_count": 14,
     "metadata": {},
     "output_type": "execute_result"
    }
   ],
   "source": [
    "from langchain_core.prompts import ChatPromptTemplate, MessagesPlaceholder\n",
    "from langchain_core.messages import HumanMessage\n",
    "prompt = ChatPromptTemplate.from_messages([\n",
    "    (\"system\", \"you are a helpful assistant.\"),\n",
    "    MessagesPlaceholder(\"msg\")\n",
    "])\n",
    "prompt.invoke({\"msg\" : [HumanMessage(content=\"Hi!\")]})"
   ]
  },
  {
   "cell_type": "code",
   "execution_count": null,
   "metadata": {},
   "outputs": [],
   "source": []
  }
 ],
 "metadata": {
  "kernelspec": {
   "display_name": "Python 3",
   "language": "python",
   "name": "python3"
  },
  "language_info": {
   "codemirror_mode": {
    "name": "ipython",
    "version": 3
   },
   "file_extension": ".py",
   "mimetype": "text/x-python",
   "name": "python",
   "nbconvert_exporter": "python",
   "pygments_lexer": "ipython3",
   "version": "3.12.5"
  }
 },
 "nbformat": 4,
 "nbformat_minor": 2
}
